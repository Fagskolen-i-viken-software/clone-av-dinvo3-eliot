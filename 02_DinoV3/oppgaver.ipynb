{
 "cells": [
  {
   "cell_type": "markdown",
   "id": "84ebc66e",
   "metadata": {},
   "source": [
    "# Oppgave - Matplotlib\n",
    "\n",
    "1. Funksjonen: ```def show_images(amount)``` viser et valgfritt antall bilder ved å kalle den med ulike argumenter (**amount** er et argument til funksjonen).\n",
    "   - Kopier funksjonen inn i denne filen\n",
    "   - Last inn bildene som ligger i `foreground_segmentation_images` og `foreground_segmentation_labels` til nye variabler ```images``` og ```labels``` i denne filen\n",
    "   - Test funksjonen ved å kalle den med ulike tall fra 1–9\n",
    "\n",
    "2. Endre funksjonen slik at den alltid viser 2 bilder mer enn **amount**\n",
    "   - Hva kan gå galt, og hvordan kan vi løse det?\n",
    "\n",
    "3. Lag en mappe i `data`: `data/my_images`\n",
    "   - Legg til noen valgfrie bilder\n",
    "   - Last inn bildene til en variabel ```my_images```\n",
    "\n",
    "4. Lag din egen versjon av funksjonen\n",
    "   - Vis ulike størrelser; endre f.eks.: ```plt.figure(figsize=(16, 4), dpi=300)```\n",
    "   - Endre tittel/tekst, skriftfarge og størrelse på bildetekstene\n",
    "   - (Valgfritt) Legg til flere forbedringer (f.eks. tilfeldig utvalg av bilder, sortering, lagre figur til fil)\n"
   ]
  },
  {
   "cell_type": "code",
   "execution_count": null,
   "id": "6969181a",
   "metadata": {},
   "outputs": [],
   "source": [
    "# Her kan du skrive kode for oppgave 3\n",
    "\n"
   ]
  }
 ],
 "metadata": {
  "kernelspec": {
   "display_name": ".venv",
   "language": "python",
   "name": "python3"
  },
  "language_info": {
   "codemirror_mode": {
    "name": "ipython",
    "version": 3
   },
   "file_extension": ".py",
   "mimetype": "text/x-python",
   "name": "python",
   "nbconvert_exporter": "python",
   "pygments_lexer": "ipython3",
   "version": "3.12.3"
  }
 },
 "nbformat": 4,
 "nbformat_minor": 5
}
