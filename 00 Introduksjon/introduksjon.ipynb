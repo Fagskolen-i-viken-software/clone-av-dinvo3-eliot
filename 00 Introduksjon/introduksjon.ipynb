{
 "cells": [
  {
   "cell_type": "markdown",
   "id": "b86cba96",
   "metadata": {
    "slideshow": {
     "slide_type": "slide"
    }
   },
   "source": [
    "# 📚 Introduksjon til nevrale nettverk\n",
    "## Uke 1 – Bli kjent og kom i gang\n",
    "\n",
    "### Agenda for i dag\n",
    "\n",
    "1. Introduksjon om kurset\n",
    "2. Bli kjent - Mentimeter\n",
    "3. Verktøy installasjon"
   ]
  },
  {
   "cell_type": "markdown",
   "id": "c17f6ff2",
   "metadata": {
    "slideshow": {
     "slide_type": "slide"
    }
   },
   "source": [
    "## Hvem er jeg?\n",
    "\n",
    "- **Shahin Ostadahmadi**\n",
    "- Utdanning: Dataingeniør, Forretningsjus og økonomi (dropout)\n",
    "- Undervist snart 4 år ved Fagskolen i programmering \n",
    "- Vært med utvikling av Anvend Maskinlæring og Dataanalytiker studie\n",
    "- Driver startup samtidig - Utvikling av autonome systemer for dyrking av frukt og grønnsaker\n",
    "- Jobber med: embedded systems, robotikk, kontrollsystemer, systemingeniør\n",
    "- Språk: C/C++, Python, JavaScript, Qt, databaser og nettsideutvikling\n",
    "- Bor i Oslo, samboer og barn på vei! \n"
   ]
  },
  {
   "cell_type": "markdown",
   "id": "c159dd37",
   "metadata": {
    "slideshow": {
     "slide_type": "slide"
    }
   },
   "source": [
    "## Hva er målet med temaet?\n",
    "\n",
    "- Forstå hva maskinlæring og nevrale nettverk er\n",
    "- Lære grunnleggende begreper, prosesser og verktøy\n",
    "- Bygge modeller i Python, både klassiske og nevrale\n",
    "- Bruke Jupyter, GitHub og VS Code\n",
    "<br></br>\n",
    "\n",
    ">_Liten endring i emnebeskrivelsen_: jeg går gjennom \"Anvendelser og eksempler\" mens Rasmus (introduksjo til KI og maskinlæring) går gjennom \"Grunnleggende Matematiske konsepter\" og statistikk.  "
   ]
  },
  {
   "cell_type": "markdown",
   "id": "e2cf63b3",
   "metadata": {
    "slideshow": {
     "slide_type": "slide"
    }
   },
   "source": [
    "## Kursstruktur og verktøy\n",
    "\n",
    "Vi skal se på README-filen i GitHub-repoet:\n",
    "\n",
    "- Kursets mål og oppbygning\n",
    "- Hvilke verktøy du trenger\n",
    "- Hvordan du kommer i gang"
   ]
  },
  {
   "cell_type": "markdown",
   "id": "9ad3bc08",
   "metadata": {
    "slideshow": {
     "slide_type": "slide"
    }
   },
   "source": [
    "## Verktøy du trenger\n",
    "\n",
    "| Verktøy | Hva det gjør |\n",
    "|--------|--------------|\n",
    "| VS Code | Editor for kode og notebooks |\n",
    "| Python 3.10+ | Programmeringsspråket vårt |\n",
    "| Jupyter Notebook | Der vi skriver kode og tekst sammen |\n",
    "| Git & GitHub | Versjonskontroll og deling |"
   ]
  },
  {
   "cell_type": "markdown",
   "id": "09f849ff",
   "metadata": {
    "slideshow": {
     "slide_type": "slide"
    }
   },
   "source": [
    "## Bli kjent – svar på Mentimeter\n",
    "\n",
    "Svar anonymt på noen spørsmål om deg selv og dine forventninger.\n",
    "\n",
    "👇 Se under:"
   ]
  },
  {
   "cell_type": "markdown",
   "id": "560f5827",
   "metadata": {
    "slideshow": {
     "slide_type": "-"
    }
   },
   "source": [
    "<div style='position: relative; padding-bottom: 56.25%; padding-top: 35px; height: 0; overflow: hidden;'><iframe sandbox='allow-scripts allow-same-origin allow-presentation' allowfullscreen='true' allowtransparency='true' frameborder='0' height='315' src='https://www.mentimeter.com/app/presentation/alet5ynnp5zrjxxxxyvg8grch23rxz95/embed' style='position: absolute; top: 0; left: 0; width: 100%; height: 100%;' width='420'></iframe></div>"
   ]
  },
  {
   "cell_type": "markdown",
   "id": "6b70b467",
   "metadata": {
    "slideshow": {
     "slide_type": "slide"
    }
   },
   "source": [
    "## Gruppeaktivitet: Installer verktøy\n",
    "\n",
    "Dere deles i grupper – hver gruppe hjelper hverandre å:\n",
    "\n",
    "1. Installere Python og VS Code\n",
    "2. Lage et nytt virtuelt miljø (`venv`)\n",
    "3. Installere nødvendige pakker (`pip install ...`)\n",
    "4. Klone repoet fra GitHub og åpne en notebook\n",
    "\n",
    "Hver gruppe velger én \"teknisk kaptein\""
   ]
  },
  {
   "cell_type": "markdown",
   "id": "24f9499c",
   "metadata": {
    "slideshow": {
     "slide_type": "slide"
    }
   },
   "source": [
    "## Når du er klar…\n",
    "\n",
    "✅ Åpne `start.ipynb` og kjør første celle:"
   ]
  },
  {
   "cell_type": "code",
   "execution_count": null,
   "id": "b76593fd",
   "metadata": {
    "slideshow": {
     "slide_type": "subslide"
    }
   },
   "outputs": [
    {
     "name": "stdout",
     "output_type": "stream",
     "text": [
      "Hei! Nå er du klar til å lære maskinlæring 🚀\n",
      "Dette er iterasjon 0\n",
      "Dette er iterasjon 1\n",
      "Dette er iterasjon 2\n",
      "Dette er iterasjon 3\n",
      "Dette er iterasjon 4\n",
      "Dette er iterasjon 5\n",
      "Dette er iterasjon 6\n",
      "Dette er iterasjon 7\n",
      "Dette er iterasjon 8\n",
      "Dette er iterasjon 9\n",
      "Dette er iterasjon 10\n",
      "Dette er iterasjon 11\n",
      "Dette er iterasjon 12\n",
      "Dette er iterasjon 13\n",
      "Dette er iterasjon 14\n",
      "Dette er iterasjon 15\n",
      "Dette er iterasjon 16\n",
      "Dette er iterasjon 17\n",
      "Dette er iterasjon 18\n",
      "Dette er iterasjon 19\n"
     ]
    }
   ],
   "source": [
    "print(\"Hei! Nå er du klar til å lære maskinlæring 🚀\")\n",
    "\n",
    "for i in range(20):\n",
    "    print(f\"Dette er iterasjon {i}\")"
   ]
  }
 ],
 "metadata": {
  "celltoolbar": "Slideshow",
  "kernelspec": {
   "display_name": ".venv",
   "language": "python",
   "name": "python3"
  },
  "language_info": {
   "codemirror_mode": {
    "name": "ipython",
    "version": 3
   },
   "file_extension": ".py",
   "mimetype": "text/x-python",
   "name": "python",
   "nbconvert_exporter": "python",
   "pygments_lexer": "ipython3",
   "version": "3.12.3"
  }
 },
 "nbformat": 4,
 "nbformat_minor": 5
}
